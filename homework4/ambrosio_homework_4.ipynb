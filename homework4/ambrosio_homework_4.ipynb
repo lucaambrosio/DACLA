{
 "cells": [
  {
   "cell_type": "markdown",
   "metadata": {},
   "source": [
    "## LUCA AMBROSIO\n",
    "### HOMEWORK 4\n"
   ]
  },
  {
   "cell_type": "markdown",
   "metadata": {},
   "source": [
    "This homework is based on the wine quality classification research paper and\n",
    "dataset shared on the course page.\n",
    "\n",
    "## What to do\n",
    "\n",
    "The homework consists in the following parts.\n",
    "1. Build a classification model which is able to predict the quality of the wine\n",
    "(multiclass classification) based on its physicochemical values. Use AdaBoost\n",
    "and Gradient Boost applied to decision trees, and compare the results with\n",
    "the ones obtained in HW3 (Decision Tree and Random Forest).\n",
    "2. Build a classification model which is able to predict the quality of the wine\n",
    "(binary classification) based on its physicochemical values. Use SVM, and \n",
    "compare the results with the ones obtained in HW2 - question 2 (Logistic\n",
    "Regression).\n",
    "\n",
    "\n",
    "## Approach\n",
    "\n",
    "The idea is to apply different approaches and evaluate them, in terms of Accuracy,\n",
    "Precision-per class and Recall-per class. Per each approach, plot also the Confusion\n",
    "Matrix and make some reasoning over it. Make a conclusion, proposing your best\n",
    "model.\n",
    "\n",
    "## Suggestions\n",
    "\n",
    "Perform model parameters tuning, when appropriate.\n",
    "\n"
   ]
  },
  {
   "cell_type": "code",
   "execution_count": 1,
   "metadata": {},
   "outputs": [],
   "source": [
    "import pandas as pd\n",
    "import numpy as np\n",
    "import seaborn as sns\n",
    "import matplotlib\n",
    "from matplotlib import pyplot as plt\n",
    "from sklearn.model_selection import train_test_split\n",
    "from sklearn.linear_model import LogisticRegression, LinearRegression\n",
    "from sklearn.metrics import accuracy_score, confusion_matrix, classification_report\n",
    "from sklearn.ensemble import AdaBoostClassifier\n",
    "from sklearn.tree import DecisionTreeClassifier\n",
    "import numpy as np\n",
    "from sklearn.metrics import confusion_matrix\n",
    "from sklearn.preprocessing import LabelEncoder\n",
    "from sklearn import metrics\n",
    "import sklearn.ensemble\n",
    "from sklearn.ensemble import GradientBoostingClassifier\n",
    "from sklearn.metrics import classification_report\n",
    "import matplotlib.pyplot as plt\n",
    "from sklearn.model_selection import GridSearchCV"
   ]
  },
  {
   "cell_type": "code",
   "execution_count": 2,
   "metadata": {},
   "outputs": [],
   "source": [
    "data1 = pd.read_csv(\"winequality-white.csv\", error_bad_lines=False, sep = ';')\n",
    "data2 = pd.read_csv(\"winequality-red.csv\", error_bad_lines=False,  sep = ';')"
   ]
  },
  {
   "cell_type": "markdown",
   "metadata": {},
   "source": [
    "during this homework it was decided to keep the two datasets separate, thus working in a cao with red wines and with the other dataset with white wines.\n"
   ]
  },
  {
   "cell_type": "code",
   "execution_count": 3,
   "metadata": {},
   "outputs": [],
   "source": [
    "x = data1[[\"fixed acidity\",\"volatile acidity\",\"citric acid\",\"residual sugar\",\"chlorides\",\"free sulfur dioxide\",\"total sulfur dioxide\",\"density\",\"pH\",\"sulphates\",\"alcohol\"]]\n",
    "y = data1[\"quality\"]\n",
    "\n",
    "xx = data2[[\"fixed acidity\",\"volatile acidity\",\"citric acid\",\"residual sugar\",\"chlorides\",\"free sulfur dioxide\",\"total sulfur dioxide\",\"density\",\"pH\",\"sulphates\",\"alcohol\"]]\n",
    "yy = data2[\"quality\"]"
   ]
  },
  {
   "cell_type": "markdown",
   "metadata": {},
   "source": [
    "## AdaBoostClassifier"
   ]
  },
  {
   "cell_type": "markdown",
   "metadata": {},
   "source": [
    "### Red Wine"
   ]
  },
  {
   "cell_type": "code",
   "execution_count": 4,
   "metadata": {},
   "outputs": [
    {
     "name": "stdout",
     "output_type": "stream",
     "text": [
      "[[  0   0   2   3   0   0]\n",
      " [  0   5   5  15   0   0]\n",
      " [  0   2 197  89   3   0]\n",
      " [  0   0  66 337  29   0]\n",
      " [  0   0   3  73 115   1]\n",
      " [  0   0   0  12   8  15]]\n",
      "Train Accuracy: 1.0\n",
      "Test Accuracy: 0.6826530612244898\n",
      "Red Wine quality preciction model Accuracy: 0.6826530612244898\n",
      "              precision    recall  f1-score   support\n",
      "\n",
      "           3       0.00      0.00      0.00         5\n",
      "           4       0.71      0.20      0.31        25\n",
      "           5       0.72      0.68      0.70       291\n",
      "           6       0.64      0.78      0.70       432\n",
      "           7       0.74      0.60      0.66       192\n",
      "           8       0.94      0.43      0.59        35\n",
      "\n",
      "   micro avg       0.68      0.68      0.68       980\n",
      "   macro avg       0.63      0.45      0.49       980\n",
      "weighted avg       0.69      0.68      0.68       980\n",
      "\n",
      "[[  0   0   2   3   0   0]\n",
      " [  0   5   5  15   0   0]\n",
      " [  0   2 197  89   3   0]\n",
      " [  0   0  66 337  29   0]\n",
      " [  0   0   3  73 115   1]\n",
      " [  0   0   0  12   8  15]]\n"
     ]
    },
    {
     "name": "stderr",
     "output_type": "stream",
     "text": [
      "C:\\Users\\Luca\\Anaconda3\\lib\\site-packages\\sklearn\\metrics\\classification.py:1143: UndefinedMetricWarning: Precision and F-score are ill-defined and being set to 0.0 in labels with no predicted samples.\n",
      "  'precision', 'predicted', average, warn_for)\n",
      "C:\\Users\\Luca\\Anaconda3\\lib\\site-packages\\sklearn\\metrics\\classification.py:1143: UndefinedMetricWarning: Precision and F-score are ill-defined and being set to 0.0 in labels with no predicted samples.\n",
      "  'precision', 'predicted', average, warn_for)\n",
      "C:\\Users\\Luca\\Anaconda3\\lib\\site-packages\\sklearn\\metrics\\classification.py:1143: UndefinedMetricWarning: Precision and F-score are ill-defined and being set to 0.0 in labels with no predicted samples.\n",
      "  'precision', 'predicted', average, warn_for)\n"
     ]
    }
   ],
   "source": [
    "# AdaBoostClassifier per i vini rossi\n",
    "\n",
    "#I divide the data between test data and training data\n",
    "[xTrain, xTest] = train_test_split(x, test_size=0.2, random_state=42) # la dimensione del test set è il 20% del dataset\n",
    "[yTrain, yTest] = train_test_split(y, test_size=0.2, random_state=42) # la dimensione del test set è il 20% del dataset\n",
    "\n",
    "classifier = AdaBoostClassifier(DecisionTreeClassifier(max_depth=15),n_estimators=30)\n",
    "classifier.fit(xTrain, yTrain)\n",
    "predictions = classifier.predict(xTest)\n",
    "cm = confusion_matrix(yTest, predictions)\n",
    "print(cm)\n",
    "\n",
    "print(\"Train Accuracy: {}\".format(metrics.accuracy_score(yTrain, classifier.predict(xTrain))))\n",
    "print(\"Test Accuracy: {}\".format(metrics.accuracy_score(yTest, predictions)))\n",
    "\n",
    "labels_prob_predicted_red = classifier.predict_proba(xTest)\n",
    "#accuracy\n",
    "print(\"Red Wine quality preciction model Accuracy: {}\".format(metrics.accuracy_score(yTest, predictions)))\n",
    "#precision and recall per class\n",
    "print(metrics.classification_report(yTest, predictions))\n",
    "\n",
    "cm = confusion_matrix(yTest, predictions)\n",
    "print(cm)"
   ]
  },
  {
   "cell_type": "markdown",
   "metadata": {},
   "source": [
    "### White Wine"
   ]
  },
  {
   "cell_type": "code",
   "execution_count": 5,
   "metadata": {},
   "outputs": [
    {
     "name": "stdout",
     "output_type": "stream",
     "text": [
      "[[ 0  0  1  0  0  0]\n",
      " [ 0  0  7  3  0  0]\n",
      " [ 0  1 97 32  0  0]\n",
      " [ 0  0 32 93  7  0]\n",
      " [ 0  0  0 21 20  1]\n",
      " [ 0  0  0  1  4  0]]\n",
      "Train Accuracy: 1.0\n",
      "Test Accuracy: 0.65625\n",
      "Red Wine quality preciction model Accuracy: 0.65625\n",
      "              precision    recall  f1-score   support\n",
      "\n",
      "           3       0.00      0.00      0.00         1\n",
      "           4       0.00      0.00      0.00        10\n",
      "           5       0.71      0.75      0.73       130\n",
      "           6       0.62      0.70      0.66       132\n",
      "           7       0.65      0.48      0.55        42\n",
      "           8       0.00      0.00      0.00         5\n",
      "\n",
      "   micro avg       0.66      0.66      0.66       320\n",
      "   macro avg       0.33      0.32      0.32       320\n",
      "weighted avg       0.63      0.66      0.64       320\n",
      "\n",
      "[[ 0  0  1  0  0  0]\n",
      " [ 0  0  7  3  0  0]\n",
      " [ 0  1 97 32  0  0]\n",
      " [ 0  0 32 93  7  0]\n",
      " [ 0  0  0 21 20  1]\n",
      " [ 0  0  0  1  4  0]]\n"
     ]
    },
    {
     "name": "stderr",
     "output_type": "stream",
     "text": [
      "C:\\Users\\Luca\\Anaconda3\\lib\\site-packages\\sklearn\\metrics\\classification.py:1143: UndefinedMetricWarning: Precision and F-score are ill-defined and being set to 0.0 in labels with no predicted samples.\n",
      "  'precision', 'predicted', average, warn_for)\n",
      "C:\\Users\\Luca\\Anaconda3\\lib\\site-packages\\sklearn\\metrics\\classification.py:1143: UndefinedMetricWarning: Precision and F-score are ill-defined and being set to 0.0 in labels with no predicted samples.\n",
      "  'precision', 'predicted', average, warn_for)\n",
      "C:\\Users\\Luca\\Anaconda3\\lib\\site-packages\\sklearn\\metrics\\classification.py:1143: UndefinedMetricWarning: Precision and F-score are ill-defined and being set to 0.0 in labels with no predicted samples.\n",
      "  'precision', 'predicted', average, warn_for)\n"
     ]
    }
   ],
   "source": [
    "# AdaBoostClassifier per i vini rossi\n",
    "\n",
    "#I divide the data between test data and training data\n",
    "[xTrain, xTest] = train_test_split(xx, test_size=0.2, random_state=42) # la dimensione del test set è il 20% del dataset\n",
    "[yTrain, yTest] = train_test_split(yy, test_size=0.2, random_state=42) # la dimensione del test set è il 20% del dataset\n",
    "\n",
    "classifier = AdaBoostClassifier(DecisionTreeClassifier(max_depth=15),n_estimators=30)\n",
    "classifier.fit(xTrain, yTrain)\n",
    "predictions = classifier.predict(xTest)\n",
    "cm = confusion_matrix(yTest, predictions)\n",
    "print(cm)\n",
    "\n",
    "print(\"Train Accuracy: {}\".format(metrics.accuracy_score(yTrain, classifier.predict(xTrain))))\n",
    "print(\"Test Accuracy: {}\".format(metrics.accuracy_score(yTest, predictions)))\n",
    "\n",
    "labels_prob_predicted_red = classifier.predict_proba(xTest)\n",
    "#accuracy\n",
    "print(\"Red Wine quality preciction model Accuracy: {}\".format(metrics.accuracy_score(yTest, predictions)))\n",
    "#precision and recall per class\n",
    "print(metrics.classification_report(yTest, predictions))\n",
    "\n",
    "cm = confusion_matrix(yTest, predictions)\n",
    "print(cm)"
   ]
  },
  {
   "cell_type": "markdown",
   "metadata": {},
   "source": [
    "## Gradient Boost "
   ]
  },
  {
   "cell_type": "markdown",
   "metadata": {},
   "source": [
    "### Red Wine"
   ]
  },
  {
   "cell_type": "code",
   "execution_count": 6,
   "metadata": {},
   "outputs": [
    {
     "data": {
      "image/png": "[encoded data removed]",
      "text/plain": [
       "<Figure size 432x288 with 1 Axes>"
      ]
     },
     "metadata": {
      "needs_background": "light"
     },
     "output_type": "display_data"
    },
    {
     "name": "stdout",
     "output_type": "stream",
     "text": [
      "Accuracy of the GBM on test set: 0.570\n",
      "              precision    recall  f1-score   support\n",
      "\n",
      "           3       0.33      0.20      0.25         5\n",
      "           4       0.55      0.24      0.33        25\n",
      "           5       0.59      0.55      0.57       291\n",
      "           6       0.55      0.72      0.63       432\n",
      "           7       0.62      0.37      0.46       192\n",
      "           8       0.62      0.23      0.33        35\n",
      "\n",
      "   micro avg       0.57      0.57      0.57       980\n",
      "   macro avg       0.54      0.39      0.43       980\n",
      "weighted avg       0.58      0.57      0.56       980\n",
      "\n"
     ]
    }
   ],
   "source": [
    "[xTrain, xTest] = train_test_split(x, test_size=0.2, random_state=42) # la dimensione del test set è il 20% del dataset\n",
    "[yTrain, yTest] = train_test_split(y, test_size=0.2, random_state=42) # la dimensione del test set è il 20% del dataset\n",
    "\n",
    "\n",
    "baseline = GradientBoostingClassifier(learning_rate=0.1, n_estimators=100,max_depth=3, min_samples_split=2, min_samples_leaf=1, subsample=1,max_features='sqrt', random_state=10)\n",
    "baseline.fit(xTrain,yTrain)\n",
    "\n",
    "predictors=list(xTrain) #features names\n",
    "\n",
    "feat_imp = pd.Series(baseline.feature_importances_, predictors).sort_values(ascending=False)\n",
    "feat_imp.plot(kind='bar', title='Importance of Features')\n",
    "plt.ylabel('Feature Importance Score')\n",
    "plt.show()\n",
    "print('Accuracy of the GBM on test set: {:.3f}'.format(baseline.score(xTest, yTest)))\n",
    "\n",
    "pred=baseline.predict(xTest)\n",
    "print(classification_report(yTest, pred))\n"
   ]
  },
  {
   "cell_type": "code",
   "execution_count": 7,
   "metadata": {},
   "outputs": [
    {
     "data": {
      "text/plain": [
       "({'learning_rate': 0.1, 'n_estimators': 300}, 0.6444612030009481)"
      ]
     },
     "execution_count": 7,
     "metadata": {},
     "output_type": "execute_result"
    }
   ],
   "source": [
    "p_test = {'learning_rate':[0.1,0.01], 'n_estimators':[100,200,300]}\n",
    "tuning = GridSearchCV(estimator =GradientBoostingClassifier(max_depth=4, min_samples_split=2, min_samples_leaf=1, \n",
    "                                                            subsample=1,max_features='sqrt', random_state=10), \n",
    "                      param_grid = p_test, scoring='accuracy',n_jobs=4,iid=False, cv=5)\n",
    "tuning.fit(xTrain,yTrain)\n",
    "tuning.best_params_, tuning.best_score_"
   ]
  },
  {
   "cell_type": "code",
   "execution_count": 8,
   "metadata": {},
   "outputs": [
    {
     "data": {
      "text/plain": [
       "({'max_depth': 5}, 0.6462436683933447)"
      ]
     },
     "execution_count": 8,
     "metadata": {},
     "output_type": "execute_result"
    }
   ],
   "source": [
    "p_test2 = {'max_depth':[2,4,5] }\n",
    "tuning = GridSearchCV(estimator =GradientBoostingClassifier(learning_rate=0.1,n_estimators=300, min_samples_split=2, min_samples_leaf=1, subsample=1,max_features='sqrt', random_state=10), \n",
    "            param_grid = p_test2, scoring='accuracy',n_jobs=4,iid=False, cv=5)\n",
    "tuning.fit(xTrain,yTrain)\n",
    "tuning.best_params_, tuning.best_score_"
   ]
  },
  {
   "cell_type": "markdown",
   "metadata": {},
   "source": [
    "### White Wine"
   ]
  },
  {
   "cell_type": "code",
   "execution_count": 10,
   "metadata": {},
   "outputs": [
    {
     "data": {
      "image/png": "[encoded data removed]",
      "text/plain": [
       "<Figure size 432x288 with 1 Axes>"
      ]
     },
     "metadata": {
      "needs_background": "light"
     },
     "output_type": "display_data"
    },
    {
     "name": "stdout",
     "output_type": "stream",
     "text": [
      "Accuracy of the GBM on test set: 0.622\n",
      "              precision    recall  f1-score   support\n",
      "\n",
      "           3       0.00      0.00      0.00         1\n",
      "           4       1.00      0.10      0.18        10\n",
      "           5       0.70      0.74      0.72       130\n",
      "           6       0.59      0.64      0.61       132\n",
      "           7       0.52      0.40      0.45        42\n",
      "           8       0.00      0.00      0.00         5\n",
      "\n",
      "   micro avg       0.62      0.62      0.62       320\n",
      "   macro avg       0.47      0.31      0.33       320\n",
      "weighted avg       0.62      0.62      0.61       320\n",
      "\n"
     ]
    }
   ],
   "source": [
    "[xTrain, xTest] = train_test_split(xx, test_size=0.2, random_state=42) # la dimensione del test set è il 20% del dataset\n",
    "[yTrain, yTest] = train_test_split(yy, test_size=0.2, random_state=42) # la dimensione del test set è il 20% del dataset\n",
    "\n",
    "\n",
    "baseline = GradientBoostingClassifier(learning_rate=0.1, n_estimators=100,max_depth=3, min_samples_split=2, min_samples_leaf=1, subsample=1,max_features='sqrt', random_state=10)\n",
    "baseline.fit(xTrain,yTrain)\n",
    "\n",
    "predictors=list(xTrain) #features names\n",
    "\n",
    "feat_imp = pd.Series(baseline.feature_importances_, predictors).sort_values(ascending=False)\n",
    "feat_imp.plot(kind='bar', title='Importance of Features')\n",
    "plt.ylabel('Feature Importance Score')\n",
    "plt.show()\n",
    "print('Accuracy of the GBM on test set: {:.3f}'.format(baseline.score(xTest, yTest)))\n",
    "\n",
    "pred=baseline.predict(xTest)\n",
    "print(classification_report(yTest, pred))"
   ]
  },
  {
   "cell_type": "code",
   "execution_count": 11,
   "metadata": {},
   "outputs": [
    {
     "data": {
      "text/plain": [
       "({'learning_rate': 0.1, 'n_estimators': 100}, 0.6687210368873554)"
      ]
     },
     "execution_count": 11,
     "metadata": {},
     "output_type": "execute_result"
    }
   ],
   "source": [
    "p_test = {'learning_rate':[0.1,0.01], 'n_estimators':[100,200,300]}\n",
    "tuning = GridSearchCV(estimator =GradientBoostingClassifier(max_depth=4, min_samples_split=2, min_samples_leaf=1, \n",
    "                                                            subsample=1,max_features='sqrt', random_state=10), \n",
    "                      param_grid = p_test, scoring='accuracy',n_jobs=4,iid=False, cv=5)\n",
    "tuning.fit(xTrain,yTrain)\n",
    "tuning.best_params_, tuning.best_score_"
   ]
  },
  {
   "cell_type": "code",
   "execution_count": 12,
   "metadata": {},
   "outputs": [
    {
     "data": {
      "text/plain": [
       "({'max_depth': 5}, 0.6732956918278651)"
      ]
     },
     "execution_count": 12,
     "metadata": {},
     "output_type": "execute_result"
    }
   ],
   "source": [
    "p_test2 = {'max_depth':[2,4,5] }\n",
    "tuning = GridSearchCV(estimator =GradientBoostingClassifier(learning_rate=0.1,n_estimators=300, min_samples_split=2, min_samples_leaf=1, subsample=1,max_features='sqrt', random_state=10), \n",
    "            param_grid = p_test2, scoring='accuracy',n_jobs=4,iid=False, cv=5)\n",
    "tuning.fit(xTrain,yTrain)\n",
    "tuning.best_params_, tuning.best_score_"
   ]
  },
  {
   "cell_type": "markdown",
   "metadata": {},
   "source": [
    "## Conclusions"
   ]
  },
  {
   "cell_type": "markdown",
   "metadata": {},
   "source": [
    "si può notare che pur mantendo i due dataset separati si avranno risultati simili a quelli ottenuti a dataset unificato.\n",
    "Per quel che riguarda Gradient Boost si è deciso di ottimizzare i risultati ottenuti dal puro algoritmo andando a effettuare un tuning dei parametri.\n",
    "Per effettuare questo tuning si è utilizzato GridSearchCV e ci permette di avere migliori risultati semplicemente tunando i parametri.\n",
    "Per quello che riguarda i risultati di classificazione l'algoritmo che performa meglio sembra rimanere RandomForestClassifier.\n"
   ]
  }
 ],
 "metadata": {
  "kernelspec": {
   "display_name": "Python 3",
   "language": "python",
   "name": "python3"
  },
  "language_info": {
   "codemirror_mode": {
    "name": "ipython",
    "version": 3
   },
   "file_extension": ".py",
   "mimetype": "text/x-python",
   "name": "python",
   "nbconvert_exporter": "python",
   "pygments_lexer": "ipython3",
   "version": "3.7.1"
  }
 },
 "nbformat": 4,
 "nbformat_minor": 2
}
