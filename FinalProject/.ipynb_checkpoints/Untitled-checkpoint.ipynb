{
 "cells": [
  {
   "cell_type": "markdown",
   "metadata": {},
   "source": [
    "## Luca Ambrosio\n",
    "### Final Project"
   ]
  },
  {
   "cell_type": "code",
   "execution_count": 1,
   "metadata": {},
   "outputs": [],
   "source": [
    "import pandas as pd\n",
    "import numpy as np\n",
    "import seaborn as sns\n",
    "import matplotlib\n",
    "from scipy import stats\n",
    "from matplotlib import pyplot as plt\n",
    "from sklearn.model_selection import train_test_split\n",
    "from sklearn.linear_model import LogisticRegression, LinearRegression\n",
    "from sklearn.metrics import accuracy_score, confusion_matrix, classification_report\n",
    "from sklearn.ensemble import AdaBoostClassifier\n",
    "from sklearn.tree import DecisionTreeClassifier\n",
    "import numpy as np\n",
    "from sklearn.metrics import confusion_matrix\n",
    "from sklearn.preprocessing import LabelEncoder\n",
    "from sklearn import metrics\n",
    "import sklearn.ensemble\n",
    "from sklearn.ensemble import GradientBoostingClassifier\n",
    "from sklearn.metrics import classification_report\n",
    "import matplotlib.pyplot as plt\n",
    "from sklearn.model_selection import GridSearchCV"
   ]
  },
  {
   "cell_type": "markdown",
   "metadata": {},
   "source": [
    "### 1. Calculate the number of users and artists present in the network."
   ]
  },
  {
   "cell_type": "code",
   "execution_count": 2,
   "metadata": {},
   "outputs": [],
   "source": [
    "data1 = pd.read_csv(\"artists.csv\",error_bad_lines=False, sep = '\\t')\n",
    "data2 = pd.read_csv(\"user_artists.csv\",error_bad_lines=False, sep = '\\t')\n",
    "data3 = pd.read_csv(\"user_friends.csv\",error_bad_lines=False, sep = '\\t')\n",
    "data4 = pd.read_csv(\"user_artists.csv\",error_bad_lines=False, sep = '\\t')\n",
    "data5 = pd.read_csv(\"user_taggedartists_timestamps.csv\",error_bad_lines=False, sep = '\\t')\n",
    "#data2 = pd.read_csv(\"winequality-red.csv\")"
   ]
  },
  {
   "cell_type": "code",
   "execution_count": 3,
   "metadata": {},
   "outputs": [
    {
     "name": "stdout",
     "output_type": "stream",
     "text": [
      "number of artists:  17632\n",
      "number of users:  1892\n"
     ]
    }
   ],
   "source": [
    "print(\"number of artists: \",data1.shape[0])\n",
    "print(\"number of users: \", len(data2[\"userID\"].unique()))"
   ]
  },
  {
   "cell_type": "markdown",
   "metadata": {},
   "source": [
    "### 2. Calculate the number of bi-directional user-friend relations pairs"
   ]
  },
  {
   "cell_type": "code",
   "execution_count": 4,
   "metadata": {},
   "outputs": [
    {
     "name": "stdout",
     "output_type": "stream",
     "text": [
      "the number of bi-directional user-friend relations pairs is : 25434\n"
     ]
    }
   ],
   "source": [
    "cont = 0 \n",
    "for x in np.array(data3):\n",
    "    a=x[0]\n",
    "    b=x[1]\n",
    "    for y in np.array(data3):\n",
    "        c=y[0]\n",
    "        d=y[1]\n",
    "        if c == b:\n",
    "            if  d==a: \n",
    "                cont = cont +1\n",
    "print(\"the number of bi-directional user-friend relations pairs is :\",cont)"
   ]
  },
  {
   "cell_type": "markdown",
   "metadata": {},
   "source": [
    "### 3. Calculate the average friend relations per user"
   ]
  },
  {
   "cell_type": "code",
   "execution_count": 5,
   "metadata": {},
   "outputs": [
    {
     "name": "stdout",
     "output_type": "stream",
     "text": [
      "the average friend relations per user 35.727058268459544\n"
     ]
    }
   ],
   "source": [
    "cont=0\n",
    "array = []\n",
    "for x in np.array(data3):\n",
    "    a=x[0]\n",
    "    b=x[1]\n",
    "    for y in np.array(data3):\n",
    "        c=y[0]\n",
    "        d=y[1]\n",
    "        if a == c:\n",
    "            cont = cont + 1\n",
    "    array.append(cont)\n",
    "    cont=0\n",
    "print(\"the average friend relations per user\",np.mean(array))"
   ]
  },
  {
   "cell_type": "markdown",
   "metadata": {},
   "source": [
    "### 4. Calculate the number of user-listened artists relations (couples user-artist)."
   ]
  },
  {
   "cell_type": "code",
   "execution_count": 6,
   "metadata": {},
   "outputs": [
    {
     "name": "stdout",
     "output_type": "stream",
     "text": [
      "[[1430, 47], [822, 44], [1335, 48], [815, 44], [1147, 44], [2093, 44], [656, 46], [80, 44], [1273, 47], [1340, 48], [1947, 45], [1047, 45], [1484, 47], [603, 47], [1501, 47], [1530, 48], [451, 45], [50, 47], [1028, 48], [1509, 43], [576, 46], [335, 44], [1078, 42], [503, 50], [1036, 48], [1915, 43], [720, 41], [1525, 47], [780, 41], [329, 43], [409, 45], [57, 47], [1615, 47], [760, 41], [2064, 45], [809, 46], [814, 45], [217, 42], [541, 43], [1832, 47], [1993, 46], [354, 46], [1489, 45], [13, 44], [1236, 45], [1192, 47], [1577, 46], [1432, 8], [1289, 43], [1706, 44], [1754, 46], [1660, 40], [292, 45], [1618, 47], [2096, 42], [767, 43], [283, 42], [1071, 44], [1811, 47], [905, 46], [274, 46], [1699, 44], [661, 48], [1581, 38], [529, 45], [1046, 43], [543, 46], [314, 44], [1413, 43], [1426, 38], [1527, 47], [1499, 45], [560, 46], [1164, 44], [432, 43], [1157, 42], [1405, 46], [45, 44], [906, 49], [1883, 44], [888, 44], [1329, 43], [670, 44], [806, 41], [46, 45], [1474, 43], [1363, 42], [2020, 45], [443, 48], [435, 47], [994, 45], [156, 46], [1496, 44], [854, 46], [320, 47], [1570, 48], [2095, 41], [1693, 39], [686, 47], [1492, 44], [41, 45], [1495, 44], [1017, 45], [757, 45], [1516, 43], [98, 48], [1941, 44], [295, 44], [475, 43], [877, 45], [118, 47], [618, 44], [2071, 48], [1181, 45], [1881, 46], [1121, 45], [571, 44], [1290, 30], [49, 43], [1479, 42], [1871, 46], [349, 46], [604, 46], [885, 46], [587, 45], [762, 43], [4, 46], [1619, 40], [1414, 41], [1879, 46], [1966, 46], [172, 46], [1464, 45], [1694, 38], [2055, 44], [1325, 43], [743, 48], [1709, 47], [426, 46], [847, 46], [1213, 48], [645, 45], [24, 47], [293, 41], [1199, 45], [66, 45], [1579, 47], [1674, 45], [831, 45], [1242, 45], [393, 45], [1707, 46], [1032, 48], [595, 44], [1232, 47], [1154, 46], [56, 43], [193, 42], [1584, 47], [116, 44], [1233, 44], [999, 42], [598, 49], [1274, 46], [2028, 45], [1653, 45], [31, 43], [1692, 46], [72, 41], [1621, 43], [1353, 47], [1427, 46], [1994, 47], [1649, 45], [337, 45], [1491, 45], [471, 45], [1375, 47], [939, 46], [1500, 47], [1225, 45], [733, 47], [241, 47], [655, 44], [1562, 41], [2087, 47], [191, 46], [196, 47], [1331, 40], [843, 45], [385, 47], [1620, 44], [342, 45], [1517, 45], [440, 44], [1287, 48], [333, 45], [1545, 46], [1771, 46], [298, 47], [1377, 45], [1189, 45], [63, 45], [227, 46], [1339, 45], [1906, 44], [1018, 44], [1868, 33], [516, 46], [1034, 44], [874, 44], [1503, 43], [1833, 45], [494, 45], [1607, 42], [1313, 48], [1858, 44], [546, 45], [1061, 41], [249, 48], [573, 49], [1850, 46], [140, 47], [1938, 47], [1633, 48], [2088, 44], [723, 48], [887, 43], [658, 49], [1223, 48], [898, 45], [1020, 44], [1942, 40], [1864, 47], [34, 47], [1808, 46], [1343, 45], [527, 39], [1156, 42], [511, 43], [380, 46], [2044, 46], [55, 42], [639, 44], [1957, 45], [1002, 44], [2040, 45], [657, 45], [689, 47], [1463, 45], [1067, 42], [792, 44], [1856, 41], [538, 44], [1596, 46], [1073, 43], [1025, 45], [473, 42], [313, 48], [162, 45], [711, 46], [2075, 48], [268, 42], [1037, 45], [1231, 45], [719, 47], [1476, 46], [508, 42], [1768, 47], [995, 32], [452, 48], [714, 45], [1220, 45], [551, 43], [297, 47], [2094, 46], [2009, 47], [284, 47], [1701, 45], [1135, 48], [871, 45], [1963, 41], [3, 48], [1842, 46], [735, 45], [684, 39], [674, 42], [1558, 46], [557, 47], [449, 48], [25, 44], [1033, 43], [1726, 47], [1444, 43], [1490, 45], [81, 45], [1469, 44], [392, 44], [9, 43], [1896, 43], [487, 46], [2004, 45], [1016, 45], [347, 45], [1880, 45], [1253, 43], [1785, 46], [1300, 40], [823, 45], [1102, 48], [1041, 43], [243, 45], [1637, 45], [1825, 47], [698, 45], [1280, 45], [605, 45], [345, 45], [428, 45], [1729, 43], [1663, 46], [1064, 44], [790, 44], [27, 45], [526, 45], [119, 45], [704, 47], [1600, 42], [1477, 47], [1355, 47], [1845, 45], [793, 45], [1788, 44], [1365, 45], [1144, 45], [777, 46], [1995, 39], [1551, 44], [1935, 46], [1599, 45], [1572, 48], [43, 46], [110, 43], [1784, 45], [1613, 47], [96, 47], [1302, 48], [92, 46], [808, 45], [884, 48], [2031, 44], [518, 46], [921, 45], [1592, 47], [1807, 47], [231, 45], [376, 45], [1589, 47], [882, 44], [1933, 46], [2067, 48], [1196, 43], [764, 44], [91, 43], [996, 46], [1583, 46], [1188, 45], [2023, 46], [916, 47], [773, 45], [1194, 43], [2027, 45], [1775, 49], [83, 45], [269, 41], [771, 45], [1333, 44], [1369, 45], [562, 44], [2017, 45], [533, 46], [436, 44], [230, 45], [919, 45], [1628, 43], [2084, 43], [1368, 42], [1617, 43], [934, 46], [1304, 44], [321, 43], [537, 44], [2100, 44], [770, 44], [768, 43], [997, 45], [168, 43], [1776, 47], [669, 42], [219, 46], [1230, 46], [1950, 46], [251, 44], [651, 45], [82, 45], [84, 46], [253, 45], [856, 43], [1346, 47], [1606, 42], [107, 43], [2000, 43], [1399, 43], [1918, 44], [161, 46], [1601, 47], [572, 44], [1316, 44], [1155, 46], [365, 45], [957, 48], [583, 42], [263, 45], [1718, 47], [454, 43], [629, 45], [201, 47], [150, 48], [1309, 48], [184, 44], [183, 48], [548, 45], [637, 44], [1057, 41], [496, 44], [1521, 46], [852, 46], [1508, 47], [1657, 44], [1209, 50], [1863, 44], [1379, 45], [1494, 43], [1914, 47], [2022, 48], [580, 41], [90, 45], [709, 39], [1515, 44], [206, 47], [1891, 46], [845, 25], [1012, 43], [1446, 44], [1996, 46], [1030, 43], [1462, 48], [1680, 45], [1425, 46], [209, 43], [1226, 44], [1909, 44], [932, 44], [552, 45], [401, 44], [550, 41], [1696, 45], [7, 43], [1725, 47], [553, 42], [593, 45], [419, 46], [30, 43], [741, 42], [758, 46], [1435, 44], [1197, 45], [765, 46], [458, 40], [1292, 45], [544, 48], [1614, 48], [200, 45], [1458, 46], [1481, 47], [1987, 42], [351, 44], [1544, 41], [1267, 46], [2097, 46], [1010, 47], [742, 45], [488, 44], [585, 45], [1132, 42], [904, 43], [734, 47], [1519, 48], [1243, 42], [581, 45], [1712, 45], [849, 47], [952, 43], [665, 43], [1475, 46], [2068, 43], [1862, 47], [778, 47], [1654, 42], [1387, 49], [122, 44], [977, 40], [1532, 47], [126, 45], [2059, 42], [252, 47], [1246, 48], [1276, 42], [1724, 47], [891, 46], [1958, 46], [1976, 43], [459, 46], [683, 45], [248, 41], [420, 45], [601, 49], [1153, 45], [1146, 47], [938, 43], [1897, 45], [2092, 46], [2061, 47], [395, 48], [1354, 44], [875, 45], [1925, 47], [2003, 47], [1890, 44], [2033, 46], [1676, 48], [1449, 48], [1248, 43], [120, 46], [1757, 41], [1151, 45], [1264, 45], [1007, 45], [692, 46], [1065, 45], [1737, 46], [1113, 47], [8, 44], [1841, 47], [121, 45], [1390, 45], [971, 48], [2014, 45], [134, 45], [1348, 45], [910, 46], [363, 44], [368, 45], [1493, 46], [1088, 46], [1005, 45], [2036, 47], [545, 43], [491, 44], [213, 45], [914, 45], [1161, 44], [1623, 40], [1635, 43], [1176, 46], [1237, 48], [2043, 49], [1323, 40], [611, 44], [1485, 46], [62, 45], [1083, 47], [1027, 46], [215, 46], [731, 48], [1133, 41], [1396, 43], [747, 47], [1255, 48], [1401, 43], [1081, 47], [1393, 48], [423, 43], [1661, 45], [876, 48], [998, 49], [1605, 44], [1981, 45], [68, 43], [1140, 46], [1411, 44], [185, 49], [1921, 45], [463, 44], [1021, 44], [1245, 49], [438, 46], [987, 46], [1014, 23], [353, 48], [125, 49], [834, 47], [1639, 48], [1380, 47], [1965, 47], [958, 41], [1848, 47], [953, 49], [404, 43], [1350, 45], [612, 46], [1395, 45], [1278, 44], [850, 47], [635, 46], [303, 44], [590, 46], [862, 47], [739, 47], [1865, 46], [33, 43], [1398, 47], [86, 43], [1980, 39], [566, 45], [829, 45], [301, 46], [391, 48], [1100, 43], [1152, 46], [827, 44], [853, 46], [103, 43], [2072, 46], [1488, 44], [1283, 45], [1802, 44], [695, 47], [710, 46], [289, 45], [410, 47], [32, 44], [1720, 43], [18, 48], [317, 47], [1254, 46], [717, 46], [1429, 44], [1608, 43], [1835, 47], [846, 48], [5, 46], [497, 45], [26, 43], [1337, 46], [1912, 44], [6, 46], [105, 47], [1822, 44], [291, 43], [179, 43], [1456, 47], [515, 48], [1555, 43], [1929, 46], [170, 44], [1889, 47], [912, 49], [187, 47], [64, 46], [700, 46], [194, 48], [676, 44], [250, 44], [606, 45], [1898, 45], [900, 48], [1082, 45], [399, 42], [1759, 46], [2046, 46], [1362, 43], [1011, 48], [1009, 45], [307, 42], [556, 48], [640, 41], [968, 46], [1627, 46], [1453, 46], [1072, 41], [749, 49], [334, 48], [97, 47], [325, 47], [94, 45], [2039, 44], [2079, 47], [1946, 42], [1336, 47], [641, 47], [840, 46], [893, 47], [59, 45], [1919, 39], [1310, 45], [909, 46], [260, 47], [108, 42], [1422, 44], [579, 45], [712, 34], [1644, 43], [979, 46], [1616, 42], [1374, 46], [706, 44], [492, 46], [1524, 47], [359, 49], [1715, 48], [652, 45], [2057, 45], [1385, 45], [1240, 45], [678, 48], [763, 46], [357, 48], [1658, 41], [2006, 48], [223, 45], [1473, 47], [1748, 47], [1148, 38], [889, 47], [1049, 46], [117, 45], [911, 47], [74, 47], [1973, 44], [1553, 44], [1074, 48], [1745, 45], [111, 44], [513, 48], [584, 47], [1531, 41], [1461, 45], [2021, 47], [2099, 43], [681, 44], [966, 40], [104, 47], [394, 45], [643, 42], [860, 45], [744, 44], [88, 44], [1679, 44], [20, 46], [627, 45], [1595, 45], [1722, 48], [1900, 46], [2078, 46], [277, 45], [1911, 45], [281, 43], [1636, 44], [1035, 45], [358, 48], [2042, 44], [2024, 45], [754, 46], [1497, 47], [2007, 45], [1112, 47], [1022, 44], [85, 47], [75, 47], [113, 43], [1120, 47], [166, 46], [339, 43], [1778, 47], [1520, 43], [1330, 47], [1388, 43], [1160, 48], [1366, 47], [1910, 46], [1988, 42], [1322, 45], [1838, 49], [752, 42], [687, 46], [549, 43], [366, 47], [1125, 43], [890, 44], [817, 47], [1684, 44], [141, 44], [841, 47], [182, 43], [570, 44], [1568, 43], [1187, 48], [991, 42], [1470, 44], [642, 42], [464, 47], [388, 42], [147, 44], [929, 41], [1667, 47], [1705, 49], [1604, 42], [726, 46], [1820, 45], [102, 43], [1090, 46], [1920, 46], [1514, 46], [1098, 42], [1259, 42], [266, 47], [1979, 49], [1070, 47], [636, 43], [531, 48], [1560, 48], [1185, 46], [1293, 43], [976, 47], [1224, 46], [482, 45], [1084, 45], [536, 48], [1576, 45], [813, 45], [17, 44], [1630, 49], [776, 49], [1402, 46], [468, 44], [152, 49], [1262, 18], [1860, 44], [1702, 40], [310, 44], [1588, 46], [58, 44], [608, 46], [959, 46], [903, 46], [1178, 44], [1730, 44], [859, 43], [1106, 45], [946, 45], [171, 46], [1790, 43], [1087, 45], [400, 43], [1828, 46], [1431, 38], [1582, 47], [1899, 43], [861, 41], [1926, 47], [1655, 47], [614, 49], [1247, 45], [1566, 46], [12, 45], [109, 42], [211, 45], [1971, 46], [1928, 45], [1038, 45], [501, 44], [1740, 44], [517, 43], [1190, 48], [802, 45], [362, 42], [352, 47], [1110, 43], [322, 48], [1703, 42], [1219, 45], [398, 46], [1352, 43], [1089, 43], [1686, 46], [1443, 48], [1831, 43], [1212, 44], [1962, 42], [835, 41], [1977, 47], [509, 44], [341, 44], [1397, 13], [504, 46], [662, 47], [828, 45], [2076, 42], [708, 45], [993, 45], [1770, 45], [1471, 46], [1166, 49], [886, 46], [1787, 48], [370, 47], [1272, 45], [1305, 48], [794, 45], [470, 43], [312, 45], [2011, 45], [1172, 46], [1150, 47], [1159, 44], [495, 45], [1922, 42], [1751, 43], [480, 42], [311, 48], [455, 47], [1586, 44], [1539, 41], [1625, 41], [691, 46], [1080, 44], [705, 43], [1360, 47], [1656, 43], [189, 46], [2035, 41], [696, 47], [1063, 43], [1238, 45], [1134, 47], [1732, 49], [1145, 44], [1547, 48], [1298, 44], [1051, 46], [1819, 45], [37, 44], [29, 43], [1974, 43], [1478, 47], [1324, 49], [1173, 41], [1936, 47], [1821, 47], [1282, 45], [424, 44], [1975, 48], [2030, 45], [1795, 42], [1019, 49], [1221, 42], [1466, 48], [2090, 45], [1948, 44], [1128, 43], [1137, 44], [396, 45], [139, 42], [1295, 45], [157, 44], [623, 45], [1873, 46], [804, 43], [1806, 46], [1382, 44], [826, 45], [1931, 43], [950, 43], [594, 46], [1969, 45], [2086, 46], [844, 46], [1710, 47], [935, 46], [1001, 45], [812, 45], [198, 40], [406, 44], [592, 46], [481, 47], [476, 45], [897, 47], [506, 39], [1954, 43], [158, 43], [1736, 44], [38, 43], [1332, 42], [123, 47], [824, 43], [1296, 47], [1318, 45], [1810, 19], [1753, 47], [1424, 50], [677, 47], [52, 43], [1143, 46], [361, 49], [1564, 45], [1671, 43], [1408, 46], [1428, 45], [1666, 42], [1244, 45], [1056, 44], [447, 48], [753, 48], [1093, 42], [207, 45], [2047, 41], [1321, 46], [181, 47], [10, 43], [79, 47], [703, 43], [1055, 46], [1505, 44], [234, 44], [694, 42], [124, 42], [1688, 42], [1373, 42], [1107, 45], [1258, 47], [1270, 45], [1789, 46], [1381, 46], [781, 45], [336, 45], [873, 45], [1799, 39], [725, 44], [832, 43], [1281, 41], [346, 43], [1990, 44], [1378, 46], [1794, 44], [1433, 49], [1826, 44], [628, 43], [1050, 46], [1450, 45], [1483, 44], [136, 47], [943, 46], [1217, 38], [1708, 46], [137, 45], [2041, 42], [820, 47], [186, 45], [1086, 44], [1076, 49], [842, 46], [1782, 46], [1104, 46], [208, 46], [1383, 44], [1418, 45], [951, 47], [1406, 44], [1895, 43], [1697, 48], [616, 45], [1781, 45], [960, 45], [1279, 43], [1786, 43], [1506, 47], [1092, 45], [1286, 43], [154, 45], [1762, 44], [759, 46], [212, 42], [967, 46], [2013, 42], [355, 48], [1006, 47], [1746, 48], [805, 45], [14, 45], [1437, 49], [2054, 48], [1755, 44], [801, 44], [386, 44], [1537, 48], [1421, 46], [132, 45], [1467, 45], [525, 44], [1116, 44], [1114, 42], [1961, 44], [609, 46], [1761, 45], [521, 48], [1557, 44], [431, 47], [261, 45], [702, 45], [1892, 47], [1349, 46], [1044, 47], [1565, 45], [1766, 45], [371, 47], [402, 44], [986, 44], [1442, 43], [2048, 44], [728, 45], [1691, 44], [1364, 40], [1518, 42], [1882, 46], [2081, 45], [863, 47], [578, 45], [865, 44], [2045, 46], [356, 42], [1222, 40], [1816, 47], [1664, 45], [589, 43], [106, 45], [1959, 46], [332, 44], [1689, 38], [299, 45], [2060, 44], [1165, 46], [290, 47], [114, 45], [961, 46], [782, 45], [450, 47], [271, 48], [1594, 46], [1998, 46], [1182, 42], [1711, 45], [372, 46], [338, 46], [2015, 46], [690, 45], [282, 43], [294, 47], [229, 42], [1669, 46], [920, 45], [926, 47], [1804, 42], [1721, 45], [1345, 40], [2008, 46], [164, 44], [730, 46], [1439, 46], [1772, 41], [727, 49], [235, 43], [534, 49], [1171, 45], [1053, 46], [810, 42], [1371, 46], [975, 47], [1303, 50], [1956, 44], [1026, 47], [1108, 48], [839, 41], [1533, 44], [1717, 47], [1124, 48], [1742, 47], [787, 43], [535, 46], [1060, 44], [1139, 46], [1728, 45], [1597, 45], [1573, 44], [1563, 48], [2005, 43], [444, 43], [784, 43], [446, 45], [1904, 48], [1441, 43], [204, 47], [460, 42], [1445, 48], [954, 46], [672, 44], [195, 46], [308, 45], [500, 40], [285, 44], [1793, 50], [477, 47], [931, 47], [316, 46], [326, 47], [1206, 41], [1907, 47], [1855, 44], [659, 47], [1277, 41], [673, 45], [1198, 48], [848, 45], [1727, 44], [899, 45], [2066, 45], [175, 46], [716, 45], [908, 44], [969, 42], [633, 45], [1903, 43], [799, 46], [1574, 46], [439, 45], [2051, 45], [2016, 45], [1999, 43], [1949, 48], [1301, 42], [632, 45], [1984, 41], [421, 47], [568, 45], [71, 41], [1783, 41], [412, 42], [149, 43], [881, 45], [1384, 44], [1455, 41], [1575, 46], [1288, 44], [1839, 48], [1410, 45], [1894, 41], [415, 46], [913, 45], [1641, 44], [682, 45], [21, 45], [949, 46], [1861, 47], [1167, 44], [411, 48], [647, 45], [925, 43], [1183, 45], [1256, 41], [688, 44], [369, 44], [100, 44], [465, 49], [2077, 43], [11, 47], [1204, 47], [258, 47], [305, 48], [1263, 43], [54, 46], [2038, 47], [1678, 46], [1647, 48], [479, 44], [1650, 44], [456, 47], [1294, 43], [203, 44], [142, 46], [61, 47], [855, 47], [1451, 50], [1764, 44], [1687, 47], [1042, 43], [1312, 44], [22, 45], [1342, 47], [1271, 47], [1094, 46], [878, 47], [575, 47], [1978, 42], [2080, 47], [985, 43], [602, 46], [374, 4], [1454, 44], [324, 43], [327, 46], [821, 41], [441, 44], [2065, 47], [1624, 42], [1158, 43], [99, 46], [650, 45], [405, 43], [1347, 47], [1662, 46], [1765, 46], [1777, 43], [1119, 48], [980, 44], [70, 48], [816, 46], [51, 45], [1097, 47], [403, 45], [499, 42], [407, 49], [153, 41], [1814, 44], [666, 45], [1857, 48], [257, 47], [539, 43], [1643, 47], [101, 44], [1308, 48], [254, 46], [933, 45], [1015, 47], [127, 44], [484, 43], [1068, 41], [1968, 43], [176, 44], [1559, 45], [40, 42], [2010, 45], [382, 45], [1780, 46], [1951, 46], [836, 46], [1315, 41], [928, 44], [2034, 42], [87, 47], [1972, 42], [512, 47], [218, 42], [1626, 45], [242, 46], [940, 44], [1824, 45], [1638, 43], [1578, 44], [1955, 43], [756, 44], [746, 48], [1207, 45], [1817, 45], [1149, 44], [1040, 39], [177, 43], [331, 45], [1744, 13], [1952, 45], [1029, 47], [1180, 47], [1683, 47], [267, 47], [1184, 40], [1024, 46], [1511, 43], [697, 45], [2052, 42], [1069, 45], [135, 44], [65, 44], [1823, 45], [789, 45], [922, 44], [586, 45], [1111, 48], [1834, 47], [978, 48], [461, 43], [78, 47], [738, 48], [375, 44], [1902, 42], [315, 46], [304, 45], [144, 44], [1507, 48], [1590, 44], [1319, 44], [16, 45], [15, 46], [1829, 48], [478, 41], [453, 44], [348, 44], [493, 30], [2037, 45], [737, 49], [1534, 46], [1404, 48], [718, 46], [47, 49], [474, 47], [1752, 41], [1704, 47], [1200, 45], [1004, 39], [427, 49], [442, 43], [607, 48], [1504, 43], [520, 43], [416, 42], [772, 43], [95, 43], [1593, 43], [981, 45], [1284, 47], [60, 45], [646, 45], [1126, 45], [1769, 46], [1852, 48], [649, 44], [927, 47], [225, 43], [963, 47], [1587, 38], [1758, 1], [367, 47], [224, 42], [1818, 47], [76, 47], [1438, 42], [1457, 42], [216, 45], [2019, 46], [467, 40], [1179, 40], [788, 46], [2070, 43], [1376, 44], [693, 46], [210, 46], [936, 49], [220, 47], [574, 46], [425, 45], [457, 46], [1039, 41], [1840, 47], [1798, 47], [330, 49], [1844, 46], [1866, 46], [1992, 48], [547, 40], [625, 42], [328, 46], [1459, 45], [964, 48], [485, 44], [1997, 42], [1632, 44], [146, 44], [1538, 42], [502, 46], [622, 47], [288, 47], [1640, 46], [667, 47], [1447, 40], [868, 45], [1749, 42], [28, 47], [233, 48], [418, 44], [148, 43], [1792, 43], [1888, 43], [434, 46], [942, 30], [1472, 44], [256, 43], [798, 46], [1091, 47], [159, 47], [1885, 46], [44, 41], [1830, 43], [1930, 45], [1123, 45], [228, 47], [2069, 41], [523, 46], [761, 46], [130, 47], [1299, 46], [1554, 43], [286, 46], [638, 44], [163, 46], [1665, 33], [1403, 45], [895, 45], [377, 46], [414, 45], [205, 41], [1796, 47], [563, 43], [510, 37], [621, 44], [302, 48], [1877, 46], [1760, 46], [2018, 43], [1386, 45], [1358, 47], [397, 43], [1535, 47], [202, 39], [278, 45], [340, 46], [1356, 44], [1859, 34], [1191, 49], [437, 41], [1054, 44], [1648, 45], [644, 46], [990, 46], [631, 42], [174, 45], [226, 44], [620, 41], [1334, 2], [69, 44], [1719, 48], [671, 43], [1677, 44], [112, 1], [1109, 42], [1052, 41], [1924, 47], [1853, 46], [1103, 45], [1827, 47], [1174, 42], [143, 43], [1867, 44], [679, 45], [178, 46], [785, 48], [2083, 44], [296, 45], [532, 42], [498, 40], [972, 40], [255, 39], [1875, 46], [1556, 42], [1652, 44], [567, 47], [133, 46], [1779, 50], [751, 46], [675, 43], [430, 45], [462, 46], [238, 46], [1465, 48], [1357, 45], [275, 49], [489, 45], [1536, 46], [1991, 47], [1773, 10], [73, 45], [2001, 45], [663, 46], [577, 45], [1423, 46], [1629, 45], [1420, 42], [745, 8], [965, 45], [1982, 42], [1130, 47], [89, 42], [48, 45], [1186, 44], [619, 45], [1003, 45], [1261, 44], [1734, 48], [1642, 48], [2053, 46], [617, 45], [264, 47], [1700, 46], [42, 46], [343, 48], [1542, 41], [1234, 44], [1549, 44], [1215, 42], [232, 46], [830, 47], [507, 44], [1099, 43], [35, 15], [1291, 48], [559, 44], [1585, 47], [930, 41], [247, 44], [53, 47], [838, 47], [1809, 42], [1311, 43], [2029, 46], [729, 46], [1351, 47], [1122, 49], [1741, 46], [1591, 46], [1210, 45], [519, 40], [713, 47], [145, 42], [383, 47], [273, 47], [791, 48], [1791, 47], [1249, 46], [1202, 48], [1211, 41], [1480, 49], [265, 47], [23, 46], [1008, 46], [1836, 47], [77, 46], [1747, 49], [596, 48], [582, 40], [668, 41], [1229, 46], [769, 28], [1419, 44], [1923, 45], [115, 43], [129, 44], [732, 46], [1540, 47], [1101, 48], [2, 44], [1939, 35], [1983, 40], [319, 45], [1854, 45], [818, 43], [1659, 44], [190, 47], [819, 37], [486, 30], [1944, 42], [1131, 43], [1986, 46], [1546, 46], [1214, 46], [613, 31], [1367, 48], [39, 45], [2062, 45], [1239, 43], [1690, 43], [707, 46], [955, 46], [180, 47], [306, 45], [1522, 43], [1528, 42], [962, 46], [1685, 46], [279, 47], [131, 45], [1803, 41], [750, 44], [1216, 44], [1567, 43], [779, 45], [989, 44], [236, 44], [36, 47], [413, 47], [680, 44], [490, 49], [1407, 47], [240, 47], [214, 44], [715, 45], [1195, 47], [924, 42], [1513, 46], [173, 44], [915, 44], [1275, 45], [561, 43], [1265, 45], [364, 43], [1917, 45], [1416, 44], [318, 40], [907, 44], [797, 11], [151, 45], [699, 47], [851, 45], [1989, 47], [262, 45], [1163, 45], [721, 49], [982, 46], [1193, 47], [1440, 45], [540, 47], [654, 46], [807, 42], [555, 42], [786, 43], [1872, 42], [1177, 45], [1023, 44], [800, 42], [1486, 49], [1964, 45], [1327, 42], [870, 47], [192, 27], [390, 47], [1085, 42], [1228, 47], [1389, 42], [896, 46], [244, 44], [280, 47], [1733, 47], [1905, 41], [1801, 41], [837, 45], [1797, 45], [1805, 45], [1580, 40], [1887, 43], [1937, 45], [1136, 41], [1851, 39], [864, 43], [1498, 47], [1541, 41], [155, 48], [1235, 44], [1075, 46], [417, 49], [1062, 41], [466, 46], [722, 45], [565, 43], [1695, 46], [433, 42], [1874, 43], [1800, 47], [2032, 47], [1723, 41], [1079, 39], [941, 44], [469, 43], [378, 45], [1434, 44], [259, 45], [514, 44], [660, 40], [1815, 43], [1675, 12], [1170, 43], [1452, 44], [664, 46], [530, 46], [1058, 50], [1908, 47], [387, 43], [984, 46], [1682, 46], [1743, 42], [300, 46], [1138, 47], [2091, 43], [2056, 46], [360, 45], [825, 45], [1622, 48], [736, 46], [948, 47], [1847, 39], [1502, 47], [624, 42], [701, 11], [472, 45], [1774, 41], [685, 45], [237, 46], [344, 31], [1869, 44], [1672, 41], [569, 46], [917, 46], [869, 10], [1205, 11], [2058, 45], [408, 16], [1634, 4], [1934, 48], [1266, 2], [1670, 43], [1372, 46], [795, 47], [1813, 45], [1646, 42], [1394, 47], [1118, 45], [350, 42], [1543, 25], [1846, 44], [128, 44], [1893, 4], [858, 44], [2025, 42], [1611, 4], [558, 12], [615, 1], [270, 13], [542, 5], [634, 45], [1552, 11], [188, 2], [1115, 3], [2085, 1], [1013, 1], [1603, 1], [1731, 1], [1307, 1]]\n"
     ]
    }
   ],
   "source": [
    "cont=0\n",
    "array=[]\n",
    "visited=[]\n",
    "for x in np.array(data4):\n",
    "    a=x[0]\n",
    "    b=x[1]\n",
    "    if(a not in visited):\n",
    "        visited.append(a)\n",
    "        for y in np.array(data4):\n",
    "            c=y[0]\n",
    "            d=y[1]\n",
    "            if a == c:\n",
    "                cont = cont + 1\n",
    "        array.append([a,cont])\n",
    "        cont=0\n",
    "print(array)"
   ]
  },
  {
   "cell_type": "markdown",
   "metadata": {},
   "source": [
    "### 5. Plot the distribution of the number of artists listened by each user, and calculate the average and mode of the distribution."
   ]
  },
  {
   "cell_type": "code",
   "execution_count": 7,
   "metadata": {},
   "outputs": [
    {
     "name": "stdout",
     "output_type": "stream",
     "text": [
      "Plot the distribution of the number of artists listened by each user\n",
      "calculate the average : 44.1284355179704\n",
      "calculate the mode of the distribution : [45]\n"
     ]
    },
    {
     "name": "stderr",
     "output_type": "stream",
     "text": [
      "C:\\Users\\Luca\\Anaconda3\\lib\\site-packages\\scipy\\stats\\stats.py:1713: FutureWarning: Using a non-tuple sequence for multidimensional indexing is deprecated; use `arr[tuple(seq)]` instead of `arr[seq]`. In the future this will be interpreted as an array index, `arr[np.array(seq)]`, which will result either in an error or a different result.\n",
      "  return np.add.reduce(sorted[indexer] * weights, axis=axis) / sumval\n"
     ]
    },
    {
     "data": {
      "image/png": "[encoded data removed]",
      "text/plain": [
       "<Figure size 432x288 with 1 Axes>"
      ]
     },
     "metadata": {
      "needs_background": "light"
     },
     "output_type": "display_data"
    }
   ],
   "source": [
    "a =[]\n",
    "for e in array:\n",
    "    a.append(e[1])\n",
    "print(\"Plot the distribution of the number of artists listened by each user\")\n",
    "sns.distplot(a)\n",
    "print(\"calculate the average :\", np.mean(a))\n",
    "print(\"calculate the mode of the distribution :\",stats.mode(a)[0])\n",
    " "
   ]
  },
  {
   "cell_type": "markdown",
   "metadata": {},
   "source": [
    "### 6. Plot the distribution of the number of tag assignments per each artist, and calculate the average and mode of the distribution."
   ]
  },
  {
   "cell_type": "code",
   "execution_count": 8,
   "metadata": {},
   "outputs": [
    {
     "name": "stdout",
     "output_type": "stream",
     "text": [
      "Plot the distribution of the number of tag assignments per each artist\n",
      "calculate the average : 14.890920705901141\n",
      "calculate the mode of the distribution : [1]\n"
     ]
    },
    {
     "data": {
      "image/png": "[encoded data removed]",
      "text/plain": [
       "<Figure size 432x288 with 1 Axes>"
      ]
     },
     "metadata": {
      "needs_background": "light"
     },
     "output_type": "display_data"
    }
   ],
   "source": [
    "#numero di tag assegnati per ogni artista\n",
    "#calcolare la media e la moda della distribuzione\n",
    "cont=0\n",
    "array=[]\n",
    "visited=[]\n",
    "for x in np.array(data5):\n",
    "    a=x[1]\n",
    "    b=x[2]\n",
    "    if(a not in visited):\n",
    "        visited.append(a)\n",
    "        for y in np.array(data5):\n",
    "            c=y[1]\n",
    "            d=y[2]\n",
    "            if a == c:\n",
    "                cont = cont + 1\n",
    "        array.append([a,cont])\n",
    "        cont=0\n",
    "a =[]\n",
    "for e in array:\n",
    "    a.append(e[1])\n",
    "print(\"Plot the distribution of the number of tag assignments per each artist\")\n",
    "sns.distplot(a)\n",
    "print(\"calculate the average :\", np.mean(a))\n",
    "print(\"calculate the mode of the distribution :\",stats.mode(a)[0])"
   ]
  },
  {
   "cell_type": "markdown",
   "metadata": {},
   "source": [
    "### 7. Plot the distribution of the number of tag assignments per each user, and calculate the average and mode of the distribution."
   ]
  },
  {
   "cell_type": "code",
   "execution_count": 9,
   "metadata": {},
   "outputs": [
    {
     "name": "stdout",
     "output_type": "stream",
     "text": [
      "Plot the distribution of the number of tag assignments per each user\n",
      "calculate the average : 98.56183932346723\n",
      "calculate the mode of the distribution : [3]\n"
     ]
    },
    {
     "data": {
      "image/png": "[encoded data removed]",
      "text/plain": [
       "<Figure size 432x288 with 1 Axes>"
      ]
     },
     "metadata": {
      "needs_background": "light"
     },
     "output_type": "display_data"
    }
   ],
   "source": [
    "#numero di tag assegnati da ogni utente\n",
    "#calcolare la media e la moda della distribuzione\n",
    "cont=0\n",
    "array=[]\n",
    "visited=[]\n",
    "for x in np.array(data5):\n",
    "    a=x[0]\n",
    "    b=x[2]\n",
    "    if(a not in visited):\n",
    "        visited.append(a)\n",
    "        for y in np.array(data5):\n",
    "            c=y[0]\n",
    "            d=y[2]\n",
    "            if a == c:\n",
    "                cont = cont + 1\n",
    "        array.append([a,cont])\n",
    "        cont=0\n",
    "a =[]\n",
    "for e in array:\n",
    "    a.append(e[1])\n",
    "print(\"Plot the distribution of the number of tag assignments per each user\")\n",
    "sns.distplot(a)\n",
    "print(\"calculate the average :\", np.mean(a))\n",
    "print(\"calculate the mode of the distribution :\",stats.mode(a)[0])"
   ]
  },
  {
   "cell_type": "markdown",
   "metadata": {},
   "source": [
    "### 8. Plot the distribution of the number of distinct tag assignments per each artist, and calculate the average and mode of the distribution\n"
   ]
  },
  {
   "cell_type": "code",
   "execution_count": 24,
   "metadata": {},
   "outputs": [],
   "source": [
    "# 8. Tracciare la distribuzione del numero di assegnazioni di tag distinti per ogni artista, e calcolare la media e la modalità di distribuzione.\n",
    "\n",
    "#numero di tag assegnati per ogni artista univoci\n",
    "#calcolare la media e la moda della distribuzione\n",
    "taglist = []\n",
    "array=[]\n",
    "visited=[]\n",
    "for x in np.array(data5):\n",
    "    a=x[1]\n",
    "    if(a not in visited):\n",
    "        visited.append(a)\n",
    "        for y in np.array(data5):\n",
    "            c=y[1]\n",
    "            d=y[2]\n",
    "            if a == c:\n",
    "                taglist.append(d)\n",
    "        array.append([a,taglist])\n",
    "        taglist = [] "
   ]
  },
  {
   "cell_type": "code",
   "execution_count": 25,
   "metadata": {},
   "outputs": [
    {
     "name": "stdout",
     "output_type": "stream",
     "text": [
      "Plot the distribution of the number of tag assignments per each artist\n",
      "calculate the average : 8.763874470973409\n",
      "calculate the mode of the distribution : [1]\n"
     ]
    },
    {
     "data": {
      "image/png": "[encoded data removed]",
      "text/plain": [
       "<Figure size 432x288 with 1 Axes>"
      ]
     },
     "metadata": {
      "needs_background": "light"
     },
     "output_type": "display_data"
    }
   ],
   "source": [
    "a =[]\n",
    "#print(array[1])\n",
    "for e in array:\n",
    "    #print(e[1])\n",
    "    f = np.array(e[1])\n",
    "    ff = np.unique(f)\n",
    "    lun = len(ff)\n",
    "    a.append(lun)\n",
    "print(\"Plot the distribution of the number of tag assignments per each artist\")\n",
    "sns.distplot(a)\n",
    "print(\"calculate the average :\", np.mean(a))\n",
    "print(\"calculate the mode of the distribution :\",stats.mode(a)[0])"
   ]
  },
  {
   "cell_type": "markdown",
   "metadata": {},
   "source": [
    "## Task2: Clustering tags"
   ]
  },
  {
   "cell_type": "markdown",
   "metadata": {},
   "source": [
    "Clustering music tags according to the artists association (content vectors).\n",
    "\n",
    "1. Cluster tags according to the association to artists​. ​Justify your choices and comments on the results. Consider at least two different clustering algorithms based on similarity between tags, and compare the clustering."
   ]
  }
 ],
 "metadata": {
  "kernelspec": {
   "display_name": "Python 3",
   "language": "python",
   "name": "python3"
  },
  "language_info": {
   "codemirror_mode": {
    "name": "ipython",
    "version": 3
   },
   "file_extension": ".py",
   "mimetype": "text/x-python",
   "name": "python",
   "nbconvert_exporter": "python",
   "pygments_lexer": "ipython3",
   "version": "3.7.1"
  }
 },
 "nbformat": 4,
 "nbformat_minor": 2
}
