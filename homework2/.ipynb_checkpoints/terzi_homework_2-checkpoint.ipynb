{
 "cells": [
  {
   "cell_type": "markdown",
   "metadata": {},
   "source": [
    "# Homework 2 Wine quality classification"
   ]
  },
  {
   "cell_type": "markdown",
   "metadata": {},
   "source": [
    "This homework is based on the wine quality classification research paper and dataset shared on the course page.\n",
    "\n",
    "What to do: the homework consists in building a classification model which is able to predict the quality of the wine (binary classification) based on its physicochemical values.\n",
    "\n",
    "Approach: the idea is to apply different approaches and evaluate them, in terms of Accuracy, Precision-per class and Recall-per class. You can apply the hold-out validation methodology, selecting randomly 20% of a dataset for testing. Per each approach, plot also the Confusion Matrix and make some reasoning over it."
   ]
  },
  {
   "cell_type": "markdown",
   "metadata": {},
   "source": [
    "Standard imports"
   ]
  },
  {
   "cell_type": "code",
   "execution_count": 1,
   "metadata": {},
   "outputs": [],
   "source": [
    "import pandas as pd\n",
    "import numpy as np\n",
    "import seaborn as sns\n",
    "import matplotlib\n",
    "from matplotlib import pyplot as plt\n",
    "from sklearn.model_selection import train_test_split\n",
    "from sklearn.linear_model import LogisticRegression, LinearRegression\n",
    "from sklearn.metrics import accuracy_score, confusion_matrix, classification_report"
   ]
  },
  {
   "cell_type": "markdown",
   "metadata": {},
   "source": [
    "Load the datasets"
   ]
  },
  {
   "cell_type": "code",
   "execution_count": 2,
   "metadata": {},
   "outputs": [],
   "source": [
    "wr_df = pd.read_csv(\"data/winequality-red.csv\", delimiter=';') \n",
    "ww_df = pd.read_csv(\"data/winequality-white.csv\", delimiter=';') "
   ]
  },
  {
   "cell_type": "markdown",
   "metadata": {},
   "source": [
    "Exploration"
   ]
  },
  {
   "cell_type": "code",
   "execution_count": 3,
   "metadata": {
    "scrolled": false
   },
   "outputs": [
    {
     "name": "stdout",
     "output_type": "stream",
     "text": [
      "Data Types\n",
      "\n",
      "\n",
      "Red Wine:\n",
      "\n",
      "fixed acidity           float64\n",
      "volatile acidity        float64\n",
      "citric acid             float64\n",
      "residual sugar          float64\n",
      "chlorides               float64\n",
      "free sulfur dioxide     float64\n",
      "total sulfur dioxide    float64\n",
      "density                 float64\n",
      "pH                      float64\n",
      "sulphates               float64\n",
      "alcohol                 float64\n",
      "quality                   int64\n",
      "dtype: object\n",
      "\n",
      "White Wine:\n",
      "\n",
      "fixed acidity           float64\n",
      "volatile acidity        float64\n",
      "citric acid             float64\n",
      "residual sugar          float64\n",
      "chlorides               float64\n",
      "free sulfur dioxide     float64\n",
      "total sulfur dioxide    float64\n",
      "density                 float64\n",
      "pH                      float64\n",
      "sulphates               float64\n",
      "alcohol                 float64\n",
      "quality                   int64\n",
      "dtype: object\n",
      "\n",
      "\n",
      "Description of red wine df:\n",
      "\n",
      "       fixed acidity  volatile acidity  citric acid  residual sugar  \\\n",
      "count    1599.000000       1599.000000  1599.000000     1599.000000   \n",
      "mean        8.319637          0.527821     0.270976        2.538806   \n",
      "std         1.741096          0.179060     0.194801        1.409928   \n",
      "min         4.600000          0.120000     0.000000        0.900000   \n",
      "25%         7.100000          0.390000     0.090000        1.900000   \n",
      "50%         7.900000          0.520000     0.260000        2.200000   \n",
      "75%         9.200000          0.640000     0.420000        2.600000   \n",
      "max        15.900000          1.580000     1.000000       15.500000   \n",
      "\n",
      "         chlorides  free sulfur dioxide  total sulfur dioxide      density  \\\n",
      "count  1599.000000          1599.000000           1599.000000  1599.000000   \n",
      "mean      0.087467            15.874922             46.467792     0.996747   \n",
      "std       0.047065            10.460157             32.895324     0.001887   \n",
      "min       0.012000             1.000000              6.000000     0.990070   \n",
      "25%       0.070000             7.000000             22.000000     0.995600   \n",
      "50%       0.079000            14.000000             38.000000     0.996750   \n",
      "75%       0.090000            21.000000             62.000000     0.997835   \n",
      "max       0.611000            72.000000            289.000000     1.003690   \n",
      "\n",
      "                pH    sulphates      alcohol      quality  \n",
      "count  1599.000000  1599.000000  1599.000000  1599.000000  \n",
      "mean      3.311113     0.658149    10.422983     5.636023  \n",
      "std       0.154386     0.169507     1.065668     0.807569  \n",
      "min       2.740000     0.330000     8.400000     3.000000  \n",
      "25%       3.210000     0.550000     9.500000     5.000000  \n",
      "50%       3.310000     0.620000    10.200000     6.000000  \n",
      "75%       3.400000     0.730000    11.100000     6.000000  \n",
      "max       4.010000     2.000000    14.900000     8.000000  \n",
      "\n",
      "\n",
      "Description of white wine df:\n",
      "\n",
      "       fixed acidity  volatile acidity  citric acid  residual sugar  \\\n",
      "count    4898.000000       4898.000000  4898.000000     4898.000000   \n",
      "mean        6.854788          0.278241     0.334192        6.391415   \n",
      "std         0.843868          0.100795     0.121020        5.072058   \n",
      "min         3.800000          0.080000     0.000000        0.600000   \n",
      "25%         6.300000          0.210000     0.270000        1.700000   \n",
      "50%         6.800000          0.260000     0.320000        5.200000   \n",
      "75%         7.300000          0.320000     0.390000        9.900000   \n",
      "max        14.200000          1.100000     1.660000       65.800000   \n",
      "\n",
      "         chlorides  free sulfur dioxide  total sulfur dioxide      density  \\\n",
      "count  4898.000000          4898.000000           4898.000000  4898.000000   \n",
      "mean      0.045772            35.308085            138.360657     0.994027   \n",
      "std       0.021848            17.007137             42.498065     0.002991   \n",
      "min       0.009000             2.000000              9.000000     0.987110   \n",
      "25%       0.036000            23.000000            108.000000     0.991723   \n",
      "50%       0.043000            34.000000            134.000000     0.993740   \n",
      "75%       0.050000            46.000000            167.000000     0.996100   \n",
      "max       0.346000           289.000000            440.000000     1.038980   \n",
      "\n",
      "                pH    sulphates      alcohol      quality  \n",
      "count  4898.000000  4898.000000  4898.000000  4898.000000  \n",
      "mean      3.188267     0.489847    10.514267     5.877909  \n",
      "std       0.151001     0.114126     1.230621     0.885639  \n",
      "min       2.720000     0.220000     8.000000     3.000000  \n",
      "25%       3.090000     0.410000     9.500000     5.000000  \n",
      "50%       3.180000     0.470000    10.400000     6.000000  \n",
      "75%       3.280000     0.550000    11.400000     6.000000  \n",
      "max       3.820000     1.080000    14.200000     9.000000  \n",
      "\n",
      "\n",
      "Total number of missing values in red wine df:\n",
      "fixed acidity           0\n",
      "volatile acidity        0\n",
      "citric acid             0\n",
      "residual sugar          0\n",
      "chlorides               0\n",
      "free sulfur dioxide     0\n",
      "total sulfur dioxide    0\n",
      "density                 0\n",
      "pH                      0\n",
      "sulphates               0\n",
      "alcohol                 0\n",
      "quality                 0\n",
      "dtype: int64\n",
      "\n",
      "Total number of missing values in white wine df:\n",
      "fixed acidity           0\n",
      "volatile acidity        0\n",
      "citric acid             0\n",
      "residual sugar          0\n",
      "chlorides               0\n",
      "free sulfur dioxide     0\n",
      "total sulfur dioxide    0\n",
      "density                 0\n",
      "pH                      0\n",
      "sulphates               0\n",
      "alcohol                 0\n",
      "quality                 0\n",
      "dtype: int64\n"
     ]
    }
   ],
   "source": [
    "print(\"Data Types\\n\\n\")\n",
    "print(\"Red Wine:\\n\")\n",
    "print(wr_df.dtypes)\n",
    "print(\"\\nWhite Wine:\\n\")\n",
    "print(ww_df.dtypes)\n",
    "print(\"\\n\\nDescription of red wine df:\\n\")\n",
    "print(wr_df.describe(include='all'))\n",
    "print(\"\\n\\nDescription of white wine df:\\n\")\n",
    "print(ww_df.describe(include='all'))\n",
    "print(\"\\n\\nTotal number of missing values in red wine df:\\n\" + str(wr_df.isnull().sum()))\n",
    "print(\"\\nTotal number of missing values in white wine df:\\n\" + str(ww_df.isnull().sum()))"
   ]
  },
  {
   "cell_type": "markdown",
   "metadata": {},
   "source": [
    "<span style=\"color:blue\">Dataset well formed</span>"
   ]
  },
  {
   "cell_type": "markdown",
   "metadata": {},
   "source": [
    "1. Apply a Logistic Regression algorithm on the 2 datasets, separately. Create a new target class binning the quality in 2 sets:for example, if quality>=5 => target_quality=high, if quality<5 => target_quality=low. Build a model for the red wine dataset, and a model for the white wine dataset."
   ]
  },
  {
   "cell_type": "code",
   "execution_count": 4,
   "metadata": {},
   "outputs": [
    {
     "name": "stdout",
     "output_type": "stream",
     "text": [
      "      alcohol  chlorides  citric acid  density  fixed acidity  \\\n",
      "493      11.6      0.086         0.31  1.00020            8.7   \n",
      "354      11.9      0.066         0.40  0.99120            6.1   \n",
      "342       9.8      0.118         0.47  0.99820           10.9   \n",
      "834       9.4      0.088         0.26  0.99694            8.8   \n",
      "705       9.9      0.073         0.15  0.99900            8.4   \n",
      "...       ...        ...          ...      ...            ...   \n",
      "1130     10.4      0.058         0.00  0.99770            9.1   \n",
      "1294     10.9      0.073         0.10  0.99638            8.2   \n",
      "860       9.5      0.077         0.06  0.99746            7.2   \n",
      "1459     11.9      0.054         0.35  0.99458            7.9   \n",
      "1126     13.5      0.063         0.26  0.99150            5.8   \n",
      "\n",
      "      free sulfur dioxide    pH  residual sugar  sulphates  \\\n",
      "493                  23.0  3.48             3.0       0.74   \n",
      "354                  40.5  3.25             1.4       0.59   \n",
      "342                   6.0  3.30             1.8       0.75   \n",
      "834                  16.0  3.32             1.6       0.47   \n",
      "705                  11.0  3.37             6.0       0.49   \n",
      "...                   ...   ...             ...        ...   \n",
      "1130                  5.0  3.18             1.9       0.63   \n",
      "1294                 25.0  3.29             2.1       0.75   \n",
      "860                  15.0  3.51             2.7       0.54   \n",
      "1459                  7.0  3.32             1.7       0.80   \n",
      "1126                  3.0  3.39             1.7       0.54   \n",
      "\n",
      "      total sulfur dioxide  volatile acidity  \n",
      "493                   81.0             0.690  \n",
      "354                  165.0             0.210  \n",
      "342                   14.0             0.390  \n",
      "834                   23.0             0.685  \n",
      "705                   54.0             1.035  \n",
      "...                    ...               ...  \n",
      "1130                  10.0             0.600  \n",
      "1294                  60.0             0.635  \n",
      "860                   85.0             0.620  \n",
      "1459                  15.0             0.200  \n",
      "1126                  11.0             0.290  \n",
      "\n",
      "[1279 rows x 11 columns]\n",
      "coefficent = [[-0.27117519  0.57495417  0.11583576 -0.02441595 -0.12055127 -0.01687843\n",
      "   0.9014718   0.18715875 -0.61701661 -0.01361339  2.55077524]]\n",
      "intercept = [-3.22727579]\n",
      "accuracy = 0.965625\n",
      "              precision    recall  f1-score   support\n",
      "\n",
      "        high       0.97      1.00      0.98       309\n",
      "         low       0.00      0.00      0.00        11\n",
      "\n",
      "    accuracy                           0.97       320\n",
      "   macro avg       0.48      0.50      0.49       320\n",
      "weighted avg       0.93      0.97      0.95       320\n",
      "\n"
     ]
    },
    {
     "name": "stderr",
     "output_type": "stream",
     "text": [
      "/Users/edoardo/opt/anaconda3/lib/python3.7/site-packages/sklearn/metrics/classification.py:1437: UndefinedMetricWarning: Precision and F-score are ill-defined and being set to 0.0 in labels with no predicted samples.\n",
      "  'precision', 'predicted', average, warn_for)\n"
     ]
    },
    {
     "data": {
      "image/png": "[encoded data removed]",
      "text/plain": [
       "<Figure size 432x288 with 2 Axes>"
      ]
     },
     "metadata": {
      "needs_background": "light"
     },
     "output_type": "display_data"
    }
   ],
   "source": [
    "# Red Wine Dataset\n",
    "# create a new target class\n",
    "target_quality_wr = []\n",
    "\n",
    "for q in wr_df['quality']:\n",
    "    if q >= 5:\n",
    "        target_quality_wr.append('high')\n",
    "    else:\n",
    "        target_quality_wr.append('low')\n",
    "        \n",
    "wr_df['target_quality'] = target_quality_wr\n",
    "\n",
    "# Split the dataset 80-20\n",
    "train_wr, test_wr = train_test_split(wr_df, train_size=0.8, random_state=42)\n",
    "\n",
    "# Use all the classes \n",
    "x_train_wr = train_wr[train_wr.columns.difference(['quality', 'target_quality'])]\n",
    "print(x_train_wr)\n",
    "y_train_wr = train_wr['target_quality']\n",
    "\n",
    "x_test_wr = test_wr[test_wr.columns.difference(['quality', 'target_quality'])]\n",
    "y_test_wr = test_wr['target_quality']\n",
    "\n",
    "# Create the model and train it\n",
    "model_wr = LogisticRegression(solver='lbfgs', max_iter=1000)\n",
    "model_wr.fit(x_train_wr, y_train_wr)\n",
    "\n",
    "# Print coefficents and intercept: \n",
    "print(\"coefficent = {}\".format(model_wr.coef_))\n",
    "print(\"intercept = {}\".format(model_wr.intercept_))\n",
    "\n",
    "# Test the model\n",
    "prediction_wr = model_wr.predict(x_test_wr)\n",
    "\n",
    "# Calculate the accuracy \n",
    "accuracy_wr = accuracy_score(y_test_wr, prediction_wr)\n",
    "print(\"accuracy = {}\".format(accuracy_wr))\n",
    "\n",
    "# Print precision, recall, f1-score\n",
    "print(classification_report(y_test_wr, prediction_wr))\n",
    "\n",
    "# Compute and show the confusion matrix\n",
    "confusion_matrix_wr = confusion_matrix(y_test_wr, prediction_wr)\n",
    "\n",
    "labels = ['Negative', 'Positive']\n",
    "\n",
    "fig = plt.figure()\n",
    "ax = fig.add_subplot(111)\n",
    "\n",
    "#plot the heatmap\n",
    "cax = ax.matshow(confusion_matrix_wr)\n",
    "\n",
    "#write number on each square\n",
    "for (i, j), z in np.ndenumerate(confusion_matrix_wr):\n",
    "    ax.text(j, i, '{:0.1f}'.format(z), ha='center', va='center',\n",
    "            bbox=dict(boxstyle='round', facecolor='white', edgecolor='0.3'))\n",
    "\n",
    "plt.title('Confusion matrix of the classifier\\n')\n",
    "fig.colorbar(cax)\n",
    "ax.set_xticklabels([''] + labels)\n",
    "ax.set_yticklabels([''] + labels)\n",
    "\n",
    "plt.show()"
   ]
  },
  {
   "cell_type": "code",
   "execution_count": 5,
   "metadata": {},
   "outputs": [
    {
     "name": "stdout",
     "output_type": "stream",
     "text": [
      "coefficent = [[-5.13200634e-01  2.91581834e-01 -2.07366231e-01  6.70428710e-02\n",
      "   4.36076026e-01 -3.49784677e-02  7.71685979e-01 -9.12451809e-02\n",
      "  -5.16063424e-01 -2.92148876e-03  4.58726015e+00]]\n",
      "intercept = [-2.62222529]\n",
      "accuracy = 0.9693877551020408\n",
      "              precision    recall  f1-score   support\n",
      "\n",
      "        high       0.97      1.00      0.98       950\n",
      "         low       0.00      0.00      0.00        30\n",
      "\n",
      "    accuracy                           0.97       980\n",
      "   macro avg       0.48      0.50      0.49       980\n",
      "weighted avg       0.94      0.97      0.95       980\n",
      "\n"
     ]
    },
    {
     "name": "stderr",
     "output_type": "stream",
     "text": [
      "/Users/edoardo/opt/anaconda3/lib/python3.7/site-packages/sklearn/metrics/classification.py:1437: UndefinedMetricWarning: Precision and F-score are ill-defined and being set to 0.0 in labels with no predicted samples.\n",
      "  'precision', 'predicted', average, warn_for)\n"
     ]
    },
    {
     "data": {
      "image/png": "[encoded data removed]",
      "text/plain": [
       "<Figure size 432x288 with 2 Axes>"
      ]
     },
     "metadata": {
      "needs_background": "light"
     },
     "output_type": "display_data"
    }
   ],
   "source": [
    "# White Wine Dataset\n",
    "# create a new target class\n",
    "target_quality_ww = []\n",
    "\n",
    "for q in ww_df['quality']:\n",
    "    if q >= 5:\n",
    "        target_quality_ww.append('high')\n",
    "    else:\n",
    "        target_quality_ww.append('low')\n",
    "        \n",
    "ww_df['target_quality'] = target_quality_ww\n",
    "\n",
    "# Split the dataset 80-20\n",
    "train_ww, test_ww = train_test_split(ww_df, train_size=0.8, random_state=42)\n",
    "\n",
    "# Use all the classes \n",
    "x_train_ww = train_ww[train_ww.columns.difference(['quality', 'target_quality'])]\n",
    "y_train_ww = train_ww['target_quality']\n",
    "\n",
    "x_test_ww = test_ww[test_ww.columns.difference(['quality', 'target_quality'])]\n",
    "y_test_ww = test_ww['target_quality']\n",
    "\n",
    "# Create the model and train it\n",
    "model_ww = LogisticRegression(solver='lbfgs', max_iter=1000)\n",
    "model_ww.fit(x_train_ww, y_train_ww)\n",
    "\n",
    "# Print coefficents and intercept: \n",
    "print(\"coefficent = {}\".format(model_ww.coef_))\n",
    "print(\"intercept = {}\".format(model_ww.intercept_))\n",
    "\n",
    "# Test the model\n",
    "prediction_ww = model_ww.predict(x_test_ww)\n",
    "\n",
    "# Calculate the accuracy \n",
    "accuracy_ww = accuracy_score(y_test_ww, prediction_ww)\n",
    "print(\"accuracy = {}\".format(accuracy_ww))\n",
    "\n",
    "# Print precision, recall, f1-score\n",
    "print(classification_report(y_test_ww, prediction_ww))\n",
    "\n",
    "# Compute and show the confusion matrix\n",
    "confusion_matrix_ww = confusion_matrix(y_test_ww, prediction_ww)\n",
    "\n",
    "labels = ['Negative', 'Positive']\n",
    "\n",
    "fig = plt.figure()\n",
    "ax = fig.add_subplot(111)\n",
    "\n",
    "#plot the heatmap\n",
    "cax = ax.matshow(confusion_matrix_ww)\n",
    "\n",
    "#write number on each square\n",
    "for (i, j), z in np.ndenumerate(confusion_matrix_ww):\n",
    "    ax.text(j, i, '{:0.1f}'.format(z), ha='center', va='center',\n",
    "            bbox=dict(boxstyle='round', facecolor='white', edgecolor='0.3'))\n",
    "\n",
    "plt.title('Confusion matrix of the classifier\\n')\n",
    "fig.colorbar(cax)\n",
    "ax.set_xticklabels([''] + labels)\n",
    "ax.set_yticklabels([''] + labels)\n",
    "\n",
    "plt.show()"
   ]
  },
  {
   "cell_type": "markdown",
   "metadata": {},
   "source": [
    "2. Apply Logistic Regression algorithm on the complete dataset, considering together red and white wines, and adding a feature column named \"wine_type\", whose elements can assume the values {'red', 'white'}."
   ]
  },
  {
   "cell_type": "code",
   "execution_count": 6,
   "metadata": {},
   "outputs": [
    {
     "name": "stdout",
     "output_type": "stream",
     "text": [
      "coefficent = [[-4.53348250e-01  3.45045051e-01 -4.82903814e-01 -6.82312339e-02\n",
      "   1.89777446e-01 -4.37291401e-02  3.96890989e-01 -6.49794248e-02\n",
      "  -7.67277351e-01 -8.28694437e-04  4.15089858e+00 -2.45596761e+00]]\n",
      "intercept = [-0.02430361]\n",
      "accuracy = 0.963076923076923\n",
      "              precision    recall  f1-score   support\n",
      "\n",
      "        high       0.96      1.00      0.98      1251\n",
      "         low       1.00      0.02      0.04        49\n",
      "\n",
      "    accuracy                           0.96      1300\n",
      "   macro avg       0.98      0.51      0.51      1300\n",
      "weighted avg       0.96      0.96      0.95      1300\n",
      "\n"
     ]
    },
    {
     "data": {
      "image/png": "[encoded data removed]",
      "text/plain": [
       "<Figure size 432x288 with 2 Axes>"
      ]
     },
     "metadata": {
      "needs_background": "light"
     },
     "output_type": "display_data"
    }
   ],
   "source": [
    "# Merged Dataset\n",
    "wr_df['wine_type'] = 1 # Means red\n",
    "ww_df['wine_type'] = 0 # Means white\n",
    "merged_df = pd.concat([wr_df, ww_df], ignore_index=True, sort=False)\n",
    "\n",
    "# Split the dataset 80-20\n",
    "train_merged, test_merged = train_test_split(merged_df, train_size=0.8, random_state=42)\n",
    "\n",
    "# Use all the classes \n",
    "x_train_merged = train_merged[train_merged.columns.difference(['quality', 'target_quality'])]\n",
    "y_train_merged = train_merged['target_quality']\n",
    "\n",
    "x_test_merged = test_merged[test_merged.columns.difference(['quality', 'target_quality'])]\n",
    "y_test_merged = test_merged['target_quality']\n",
    "\n",
    "# Create the model and train it\n",
    "model_merged = LogisticRegression(solver='lbfgs', max_iter=1000)\n",
    "model_merged.fit(x_train_merged, y_train_merged)\n",
    "\n",
    "# Print coefficents and intercept: \n",
    "print(\"coefficent = {}\".format(model_merged.coef_))\n",
    "print(\"intercept = {}\".format(model_merged.intercept_))\n",
    "\n",
    "# Test the model\n",
    "prediction_merged = model_merged.predict(x_test_merged)\n",
    "\n",
    "# Calculate the accuracy \n",
    "accuracy_merged = accuracy_score(y_test_merged, prediction_merged)\n",
    "print(\"accuracy = {}\".format(accuracy_merged))\n",
    "\n",
    "# Print precision, recall, f1-score\n",
    "print(classification_report(y_test_merged, prediction_merged))\n",
    "\n",
    "# Compute and show the confusion matrix\n",
    "confusion_matrix_merged = confusion_matrix(y_test_merged, prediction_merged)\n",
    "\n",
    "labels = ['Negative', 'Positive']\n",
    "\n",
    "fig = plt.figure()\n",
    "ax = fig.add_subplot(111)\n",
    "\n",
    "#plot the heatmap\n",
    "cax = ax.matshow(confusion_matrix_merged)\n",
    "\n",
    "#write number on each square\n",
    "for (i, j), z in np.ndenumerate(confusion_matrix_merged):\n",
    "    ax.text(j, i, '{:0.1f}'.format(z), ha='center', va='center',\n",
    "            bbox=dict(boxstyle='round', facecolor='white', edgecolor='0.3'))\n",
    "\n",
    "plt.title('Confusion matrix of the classifier\\n')\n",
    "fig.colorbar(cax)\n",
    "ax.set_xticklabels([''] + labels)\n",
    "ax.set_yticklabels([''] + labels)\n",
    "\n",
    "plt.show()"
   ]
  },
  {
   "cell_type": "markdown",
   "metadata": {},
   "source": [
    "<span style=\"color:blue\">Analyzing the results obtained by performing a Logistic Regression on the datasets taken individually or merged there are not many differences. In both cases, the model has difficulty in identifying low-level wines.</span>"
   ]
  },
  {
   "cell_type": "markdown",
   "metadata": {},
   "source": [
    "3. Apply a Linear Regression algorithm, considering the quality measure learned as a continuous value. When evaluating the prediction, make an approximation on the quality value predicted by the linear regression model to retrieve a target_quality (with the same procedure asin point 1). Evaluate the target_quality prediction on the binned real_quality."
   ]
  },
  {
   "cell_type": "code",
   "execution_count": 7,
   "metadata": {},
   "outputs": [
    {
     "data": {
      "text/plain": [
       "quality                 1.000000\n",
       "alcohol                 0.444319\n",
       "density                 0.305858\n",
       "volatile acidity        0.265699\n",
       "chlorides               0.200666\n",
       "wine_type               0.119323\n",
       "citric acid             0.085532\n",
       "fixed acidity           0.076743\n",
       "free sulfur dioxide     0.055463\n",
       "total sulfur dioxide    0.041385\n",
       "sulphates               0.038485\n",
       "residual sugar          0.036980\n",
       "pH                      0.019506\n",
       "Name: quality, dtype: float64"
      ]
     },
     "execution_count": 7,
     "metadata": {},
     "output_type": "execute_result"
    }
   ],
   "source": [
    "# Chosse the best features...\n",
    "corr = merged_df.corr()\n",
    "corr['quality'].abs().sort_values(ascending=False)"
   ]
  },
  {
   "cell_type": "markdown",
   "metadata": {},
   "source": [
    "<span style=\"color:blue\">There are no features highly correlated to the target variable so let's use them all together to try to get an efficient model.</span>"
   ]
  },
  {
   "cell_type": "code",
   "execution_count": 8,
   "metadata": {},
   "outputs": [
    {
     "name": "stdout",
     "output_type": "stream",
     "text": [
      "intercept = 102.30359185681559\n",
      "coeff = [ 2.32593705e-01 -5.82631627e-01 -9.78878286e-02 -1.02081690e+02\n",
      "  9.21330302e-02  5.97790423e-03  5.27633123e-01  6.28216515e-02\n",
      "  7.63015400e-01 -1.63243044e-03 -1.50880993e+00  3.35208372e-01]\n",
      "SST = 0.7385467455621302\n",
      "SEE = 0.54123845436956\n",
      "R-square = 0.26715748512627036\n",
      "The selected attributes explain 0.26715748512627036% of the variation in quality\n",
      "The selected attributes explain 93.61538461538461% of the variation in target_quality\n"
     ]
    }
   ],
   "source": [
    "# Apply Linear Regression\n",
    "train, test = train_test_split(merged_df, train_size=0.8, random_state=42)\n",
    "sqft_model = LinearRegression()\n",
    "\n",
    "x_train = train[train.columns.difference(['quality', 'target_quality'])]\n",
    "y_train = train['quality']\n",
    "sqft_model.fit(pd.DataFrame(x_train), y_train)\n",
    "\n",
    "x_test = test[test.columns.difference(['quality', 'target_quality'])]\n",
    "y_test = test['quality']\n",
    "prediction = sqft_model.predict(pd.DataFrame(x_test))\n",
    "\n",
    "print(\"intercept = {}\".format(sqft_model.intercept_))\n",
    "print(\"coeff = {}\".format(sqft_model.coef_))\n",
    "\n",
    "# Performance evaluation\n",
    "y_test_mean = y_test.mean()\n",
    "n = len(y_test)\n",
    "\n",
    "SST = np.sum((y_test - y_test_mean) ** 2) / n\n",
    "print(\"SST = {}\".format(SST))\n",
    "\n",
    "SSE =  np.sum((y_test - prediction) ** 2) / n\n",
    "print(\"SEE = {}\".format(SSE))\n",
    "\n",
    "R_square = 1 - (SSE / SST)\n",
    "print(\"R-square = {}\".format(R_square))\n",
    "\n",
    "print(\"The selected attributes explain {}% of the variation in quality\".format(R_square))\n",
    "\n",
    "# Convert to target_quality and calculate the accurancy\n",
    "correct_predictions_count = 0\n",
    "for index, value in enumerate(y_test):\n",
    "    if prediction[index]>=5 and value>=5 or prediction[index]<5 and value<5:\n",
    "        correct_predictions_count += 1\n",
    "\n",
    "print(\"The selected attributes explain {}% of the variation in target_quality\"\n",
    "      .format((correct_predictions_count/len(prediction))*100))"
   ]
  },
  {
   "cell_type": "markdown",
   "metadata": {},
   "source": [
    "<span style=\"color:blue\">Linear regression works badly however if we just want to distinguish a low quality wine from a high one it seems to work about like the Logistic Regression performed before. For a better evaluation the confusion matrix should also be analyzed.</span>"
   ]
  }
 ],
 "metadata": {
  "kernelspec": {
   "display_name": "Python 3",
   "language": "python",
   "name": "python3"
  },
  "language_info": {
   "codemirror_mode": {
    "name": "ipython",
    "version": 3
   },
   "file_extension": ".py",
   "mimetype": "text/x-python",
   "name": "python",
   "nbconvert_exporter": "python",
   "pygments_lexer": "ipython3",
   "version": "3.7.1"
  }
 },
 "nbformat": 4,
 "nbformat_minor": 2
}
